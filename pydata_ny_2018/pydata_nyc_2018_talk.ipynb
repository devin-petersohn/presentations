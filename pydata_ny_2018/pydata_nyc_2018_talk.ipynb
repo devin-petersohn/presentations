{
 "cells": [
  {
   "cell_type": "markdown",
   "metadata": {
    "slideshow": {
     "slide_type": "slide"
    }
   },
   "source": [
    "<img align=\"right\" style=\"display:inline;\" width=\"400\" src=\"https://camo.githubusercontent.com/c288679ac2172d1804d8c73e0bb79e066f57e358/68747470733a2f2f676973742e6769746875622e636f6d2f646576696e2d7065746572736f686e2f66343234643966623535373961393635303763373039613336643438376632342f7261772f343936333164333739623662363364613566313833383962346661363061643433363465373764352f726973656c61622d61742d75632d6265726b656c65792e6a7067\">\n",
    "\n",
    "<br><br><br><br><br><br><br><br><br>\n",
    "<b><font size=\"7\">Modin (Pandas on Ray)</font></b>\n",
    "\n",
    "<h3>Accelerate your pandas workflows by changing one line of code</h3>\n",
    "\n",
    "<br><br>\n",
    "\n",
    "##### Devin Petersohn"
   ]
  },
  {
   "cell_type": "markdown",
   "metadata": {
    "slideshow": {
     "slide_type": "slide"
    }
   },
   "source": [
    "# An anecdote to get started\n",
    "My background: Genomics and Computational Biology Data Science\n",
    "<br><br>"
   ]
  },
  {
   "cell_type": "markdown",
   "metadata": {
    "slideshow": {
     "slide_type": "fragment"
    }
   },
   "source": [
    "**Comments from a Data Scientist who runs production genomics workloads:** \n",
    "- \"Data is too large to use in pandas (10's of GB to TB)\"\n",
    "- \"I want to interact with my data\"\n",
    "- \"I end up using Big Data tools to trim the data down and use pandas to analyze it\""
   ]
  },
  {
   "cell_type": "markdown",
   "metadata": {
    "slideshow": {
     "slide_type": "slide"
    }
   },
   "source": [
    "<h1><center>\"Why can't we use the same tools for Kilo- and Megabyte-scale data as we do for Terabyte-scale data (and vice versa)?\"</center></h1>"
   ]
  },
  {
   "cell_type": "markdown",
   "metadata": {
    "slideshow": {
     "slide_type": "slide"
    }
   },
   "source": [
    "<font color=\"navy\"><h1>Current Data Science Landscape</h1></font>\n",
    "<br><br>\n",
    "\n",
    "![](mbTools.png)"
   ]
  },
  {
   "cell_type": "markdown",
   "metadata": {
    "slideshow": {
     "slide_type": "slide"
    }
   },
   "source": [
    "<font color=\"navy\"><h1>Current Data Science Landscape</h1></font>\n",
    "<br><br>\n",
    "\n",
    "![](tbTools.png)"
   ]
  },
  {
   "cell_type": "markdown",
   "metadata": {
    "slideshow": {
     "slide_type": "slide"
    }
   },
   "source": [
    "<font color=\"navy\"><h1>Current Data Science Landscape</h1></font>\n",
    "<br><br>\n",
    "![](toolsNoArrow.png)"
   ]
  },
  {
   "cell_type": "markdown",
   "metadata": {
    "slideshow": {
     "slide_type": "slide"
    }
   },
   "source": [
    "<font color=\"navy\"><h1>Current Data Science Landscape</h1></font>\n",
    "<br><br>\n",
    "![](toolsFinal.png)"
   ]
  },
  {
   "cell_type": "markdown",
   "metadata": {
    "slideshow": {
     "slide_type": "slide"
    }
   },
   "source": [
    "<font color=\"navy\"><h1>Current Data Science Landscape (1TB+)</h1></font>\n",
    "<br><br>\n",
    "\n",
    "- New Frameworks = New APIs\n",
    "    - Many also support SQL - This is good!\n",
    "    - However, many pandas operations not covered by SQL (e.g. `iloc`)\n",
    "- Expose distributed computing concepts to users\n",
    "    - Partitioning and shuffling\n",
    "    - Tuning crucial for performance\n",
    "- Many are too heavyweight for good performance at smaller scale\n",
    "- Optimized for batching, not necessarily optimized for 2D matrix operations"
   ]
  },
  {
   "cell_type": "markdown",
   "metadata": {
    "slideshow": {
     "slide_type": "slide"
    }
   },
   "source": [
    "<center><h1>What is it about extracting value from data that requires expertise in distributed computing?</h1></center>\n",
    "<br><br><br><br>\n",
    "<center><h3>Nothing!</h3></center>"
   ]
  },
  {
   "cell_type": "markdown",
   "metadata": {
    "slideshow": {
     "slide_type": "slide"
    }
   },
   "source": [
    "<center><h1>With Modin, we are trying to bridge the gap between analytics at MBs and TBs+</h1></center>"
   ]
  },
  {
   "cell_type": "markdown",
   "metadata": {
    "slideshow": {
     "slide_type": "slide"
    }
   },
   "source": [
    "# Modin (모든)\n",
    "\n",
    "### Accelerate your pandas workflows by changing one line of code\n",
    "<br><br>"
   ]
  },
  {
   "cell_type": "code",
   "execution_count": 1,
   "metadata": {
    "slideshow": {
     "slide_type": "fragment"
    }
   },
   "outputs": [
    {
     "name": "stderr",
     "output_type": "stream",
     "text": [
      "WARNING: The use_raylet argument has been deprecated. Please remove it.\n",
      "Process STDOUT and STDERR is being redirected to /tmp/ray/session_2018-11-04_14-29-56_67462/logs.\n",
      "Waiting for redis server at 127.0.0.1:53424 to respond...\n",
      "Waiting for redis server at 127.0.0.1:45458 to respond...\n",
      "Starting the Plasma object store with 13.743895347 GB memory using /tmp.\n"
     ]
    }
   ],
   "source": [
    "# import pandas as pd\n",
    "import modin.pandas as pd"
   ]
  },
  {
   "cell_type": "markdown",
   "metadata": {},
   "source": [
    "<center><h4>This notebook was run on a 2013 iMac with 4-cores and 32GB RAM</h4></center>"
   ]
  },
  {
   "cell_type": "code",
   "execution_count": 2,
   "metadata": {
    "slideshow": {
     "slide_type": "slide"
    }
   },
   "outputs": [
    {
     "data": {
      "text/plain": [
       "modin.pandas.dataframe.DataFrame"
      ]
     },
     "execution_count": 2,
     "metadata": {},
     "output_type": "execute_result"
    }
   ],
   "source": [
    "import numpy as np\n",
    "\n",
    "# Build a 2D numpy array filled with random integers\n",
    "frame_data = np.random.randint(0, 100, size=(2**16, 2**4))\n",
    "# Put the new random data into a dataframe\n",
    "df = pd.DataFrame(frame_data)\n",
    "# Add a prefix to each column for simplicity\n",
    "df = df.add_prefix(\"col_\")\n",
    "type(df)"
   ]
  },
  {
   "cell_type": "code",
   "execution_count": 3,
   "metadata": {
    "slideshow": {
     "slide_type": "slide"
    }
   },
   "outputs": [
    {
     "data": {
      "text/html": [
       "<div>\n",
       "<style scoped>\n",
       "    .dataframe tbody tr th:only-of-type {\n",
       "        vertical-align: middle;\n",
       "    }\n",
       "\n",
       "    .dataframe tbody tr th {\n",
       "        vertical-align: top;\n",
       "    }\n",
       "\n",
       "    .dataframe thead th {\n",
       "        text-align: right;\n",
       "    }\n",
       "</style>\n",
       "<table border=\"1\" class=\"dataframe\">\n",
       "  <thead>\n",
       "    <tr style=\"text-align: right;\">\n",
       "      <th></th>\n",
       "      <th>col_0</th>\n",
       "      <th>col_1</th>\n",
       "      <th>col_2</th>\n",
       "      <th>col_3</th>\n",
       "      <th>col_4</th>\n",
       "      <th>col_5</th>\n",
       "      <th>col_6</th>\n",
       "      <th>col_7</th>\n",
       "      <th>col_8</th>\n",
       "      <th>col_9</th>\n",
       "      <th>col_10</th>\n",
       "      <th>col_11</th>\n",
       "      <th>col_12</th>\n",
       "      <th>col_13</th>\n",
       "      <th>col_14</th>\n",
       "      <th>col_15</th>\n",
       "    </tr>\n",
       "  </thead>\n",
       "  <tbody>\n",
       "    <tr>\n",
       "      <th>0</th>\n",
       "      <td>8</td>\n",
       "      <td>35</td>\n",
       "      <td>40</td>\n",
       "      <td>76</td>\n",
       "      <td>53</td>\n",
       "      <td>12</td>\n",
       "      <td>13</td>\n",
       "      <td>42</td>\n",
       "      <td>31</td>\n",
       "      <td>12</td>\n",
       "      <td>50</td>\n",
       "      <td>14</td>\n",
       "      <td>49</td>\n",
       "      <td>19</td>\n",
       "      <td>94</td>\n",
       "      <td>30</td>\n",
       "    </tr>\n",
       "    <tr>\n",
       "      <th>1</th>\n",
       "      <td>56</td>\n",
       "      <td>48</td>\n",
       "      <td>51</td>\n",
       "      <td>95</td>\n",
       "      <td>60</td>\n",
       "      <td>6</td>\n",
       "      <td>95</td>\n",
       "      <td>63</td>\n",
       "      <td>24</td>\n",
       "      <td>85</td>\n",
       "      <td>35</td>\n",
       "      <td>47</td>\n",
       "      <td>55</td>\n",
       "      <td>75</td>\n",
       "      <td>84</td>\n",
       "      <td>7</td>\n",
       "    </tr>\n",
       "    <tr>\n",
       "      <th>2</th>\n",
       "      <td>15</td>\n",
       "      <td>43</td>\n",
       "      <td>53</td>\n",
       "      <td>34</td>\n",
       "      <td>6</td>\n",
       "      <td>79</td>\n",
       "      <td>71</td>\n",
       "      <td>98</td>\n",
       "      <td>52</td>\n",
       "      <td>95</td>\n",
       "      <td>11</td>\n",
       "      <td>98</td>\n",
       "      <td>72</td>\n",
       "      <td>2</td>\n",
       "      <td>89</td>\n",
       "      <td>10</td>\n",
       "    </tr>\n",
       "    <tr>\n",
       "      <th>3</th>\n",
       "      <td>53</td>\n",
       "      <td>93</td>\n",
       "      <td>46</td>\n",
       "      <td>50</td>\n",
       "      <td>61</td>\n",
       "      <td>94</td>\n",
       "      <td>33</td>\n",
       "      <td>44</td>\n",
       "      <td>84</td>\n",
       "      <td>50</td>\n",
       "      <td>74</td>\n",
       "      <td>66</td>\n",
       "      <td>42</td>\n",
       "      <td>69</td>\n",
       "      <td>73</td>\n",
       "      <td>2</td>\n",
       "    </tr>\n",
       "    <tr>\n",
       "      <th>4</th>\n",
       "      <td>81</td>\n",
       "      <td>53</td>\n",
       "      <td>70</td>\n",
       "      <td>99</td>\n",
       "      <td>72</td>\n",
       "      <td>23</td>\n",
       "      <td>4</td>\n",
       "      <td>96</td>\n",
       "      <td>2</td>\n",
       "      <td>15</td>\n",
       "      <td>57</td>\n",
       "      <td>7</td>\n",
       "      <td>28</td>\n",
       "      <td>17</td>\n",
       "      <td>64</td>\n",
       "      <td>97</td>\n",
       "    </tr>\n",
       "    <tr>\n",
       "      <th>5</th>\n",
       "      <td>61</td>\n",
       "      <td>76</td>\n",
       "      <td>65</td>\n",
       "      <td>26</td>\n",
       "      <td>92</td>\n",
       "      <td>8</td>\n",
       "      <td>4</td>\n",
       "      <td>62</td>\n",
       "      <td>2</td>\n",
       "      <td>37</td>\n",
       "      <td>38</td>\n",
       "      <td>4</td>\n",
       "      <td>97</td>\n",
       "      <td>29</td>\n",
       "      <td>86</td>\n",
       "      <td>72</td>\n",
       "    </tr>\n",
       "    <tr>\n",
       "      <th>6</th>\n",
       "      <td>73</td>\n",
       "      <td>10</td>\n",
       "      <td>72</td>\n",
       "      <td>46</td>\n",
       "      <td>37</td>\n",
       "      <td>20</td>\n",
       "      <td>29</td>\n",
       "      <td>8</td>\n",
       "      <td>56</td>\n",
       "      <td>33</td>\n",
       "      <td>97</td>\n",
       "      <td>94</td>\n",
       "      <td>76</td>\n",
       "      <td>97</td>\n",
       "      <td>5</td>\n",
       "      <td>75</td>\n",
       "    </tr>\n",
       "    <tr>\n",
       "      <th>7</th>\n",
       "      <td>98</td>\n",
       "      <td>86</td>\n",
       "      <td>1</td>\n",
       "      <td>79</td>\n",
       "      <td>2</td>\n",
       "      <td>49</td>\n",
       "      <td>73</td>\n",
       "      <td>70</td>\n",
       "      <td>22</td>\n",
       "      <td>18</td>\n",
       "      <td>70</td>\n",
       "      <td>86</td>\n",
       "      <td>93</td>\n",
       "      <td>55</td>\n",
       "      <td>73</td>\n",
       "      <td>78</td>\n",
       "    </tr>\n",
       "    <tr>\n",
       "      <th>8</th>\n",
       "      <td>35</td>\n",
       "      <td>65</td>\n",
       "      <td>34</td>\n",
       "      <td>91</td>\n",
       "      <td>77</td>\n",
       "      <td>12</td>\n",
       "      <td>31</td>\n",
       "      <td>62</td>\n",
       "      <td>11</td>\n",
       "      <td>41</td>\n",
       "      <td>82</td>\n",
       "      <td>99</td>\n",
       "      <td>20</td>\n",
       "      <td>54</td>\n",
       "      <td>17</td>\n",
       "      <td>83</td>\n",
       "    </tr>\n",
       "    <tr>\n",
       "      <th>9</th>\n",
       "      <td>36</td>\n",
       "      <td>38</td>\n",
       "      <td>45</td>\n",
       "      <td>6</td>\n",
       "      <td>50</td>\n",
       "      <td>42</td>\n",
       "      <td>16</td>\n",
       "      <td>54</td>\n",
       "      <td>52</td>\n",
       "      <td>1</td>\n",
       "      <td>18</td>\n",
       "      <td>31</td>\n",
       "      <td>56</td>\n",
       "      <td>78</td>\n",
       "      <td>40</td>\n",
       "      <td>76</td>\n",
       "    </tr>\n",
       "  </tbody>\n",
       "</table>\n",
       "</div>"
      ],
      "text/plain": [
       "   col_0  col_1  col_2  col_3  col_4  col_5  col_6  col_7  col_8  col_9  \\\n",
       "0      8     35     40     76     53     12     13     42     31     12   \n",
       "1     56     48     51     95     60      6     95     63     24     85   \n",
       "2     15     43     53     34      6     79     71     98     52     95   \n",
       "3     53     93     46     50     61     94     33     44     84     50   \n",
       "4     81     53     70     99     72     23      4     96      2     15   \n",
       "5     61     76     65     26     92      8      4     62      2     37   \n",
       "6     73     10     72     46     37     20     29      8     56     33   \n",
       "7     98     86      1     79      2     49     73     70     22     18   \n",
       "8     35     65     34     91     77     12     31     62     11     41   \n",
       "9     36     38     45      6     50     42     16     54     52      1   \n",
       "\n",
       "   col_10  col_11  col_12  col_13  col_14  col_15  \n",
       "0      50      14      49      19      94      30  \n",
       "1      35      47      55      75      84       7  \n",
       "2      11      98      72       2      89      10  \n",
       "3      74      66      42      69      73       2  \n",
       "4      57       7      28      17      64      97  \n",
       "5      38       4      97      29      86      72  \n",
       "6      97      94      76      97       5      75  \n",
       "7      70      86      93      55      73      78  \n",
       "8      82      99      20      54      17      83  \n",
       "9      18      31      56      78      40      76  "
      ]
     },
     "execution_count": 3,
     "metadata": {},
     "output_type": "execute_result"
    }
   ],
   "source": [
    "# Print the first 10 lines of the DataFrame\n",
    "df.head(10)"
   ]
  },
  {
   "cell_type": "markdown",
   "metadata": {
    "slideshow": {
     "slide_type": "slide"
    }
   },
   "source": [
    "<center><h1>Modin manages the data partitioning and shuffling, so you can focus on extracting value from your data</h1></center>\n",
    "<br><br><br><br>\n",
    "<center><h3>After all, isn't that the purpose of Data Science?</h3></center>"
   ]
  },
  {
   "cell_type": "markdown",
   "metadata": {
    "slideshow": {
     "slide_type": "slide"
    }
   },
   "source": [
    "# <center><code>pd.read_csv</code></center>\n",
    "<br>"
   ]
  },
  {
   "cell_type": "code",
   "execution_count": 4,
   "metadata": {
    "slideshow": {
     "slide_type": "-"
    }
   },
   "outputs": [],
   "source": [
    "import pandas"
   ]
  },
  {
   "cell_type": "markdown",
   "metadata": {},
   "source": [
    "#### pandas"
   ]
  },
  {
   "cell_type": "code",
   "execution_count": 5,
   "metadata": {},
   "outputs": [
    {
     "name": "stdout",
     "output_type": "stream",
     "text": [
      "CPU times: user 27.4 s, sys: 3.32 s, total: 30.7 s\n",
      "Wall time: 30.7 s\n"
     ]
    }
   ],
   "source": [
    "%%time\n",
    "# pandas `read_csv`\n",
    "pandas_csv_data = pandas.read_csv(\"800MB.csv\")"
   ]
  },
  {
   "cell_type": "markdown",
   "metadata": {},
   "source": [
    "#### Modin"
   ]
  },
  {
   "cell_type": "code",
   "execution_count": 6,
   "metadata": {},
   "outputs": [
    {
     "name": "stdout",
     "output_type": "stream",
     "text": [
      "CPU times: user 62.5 ms, sys: 5.21 ms, total: 67.8 ms\n",
      "Wall time: 7.99 s\n"
     ]
    }
   ],
   "source": [
    "%%time\n",
    "# Modin `read_csv`\n",
    "csv_data = pd.read_csv(\"800MB.csv\")"
   ]
  },
  {
   "cell_type": "markdown",
   "metadata": {
    "slideshow": {
     "slide_type": "slide"
    }
   },
   "source": [
    "# <center><code>df.groupby</code></center>\n",
    "<br><br>"
   ]
  },
  {
   "cell_type": "markdown",
   "metadata": {},
   "source": [
    "#### pandas"
   ]
  },
  {
   "cell_type": "code",
   "execution_count": 7,
   "metadata": {
    "scrolled": false,
    "slideshow": {
     "slide_type": "-"
    }
   },
   "outputs": [
    {
     "name": "stdout",
     "output_type": "stream",
     "text": [
      "CPU times: user 6.03 s, sys: 1.75 s, total: 7.78 s\n",
      "Wall time: 7.76 s\n"
     ]
    }
   ],
   "source": [
    "%%time\n",
    "# pandas `groupby`\n",
    "_ = pandas_csv_data.groupby(by=pandas_csv_data.col_1).sum()"
   ]
  },
  {
   "cell_type": "markdown",
   "metadata": {},
   "source": [
    "#### Modin"
   ]
  },
  {
   "cell_type": "code",
   "execution_count": 8,
   "metadata": {
    "slideshow": {
     "slide_type": "-"
    }
   },
   "outputs": [
    {
     "name": "stdout",
     "output_type": "stream",
     "text": [
      "CPU times: user 2.11 s, sys: 38.2 ms, total: 2.14 s\n",
      "Wall time: 5.89 s\n"
     ]
    }
   ],
   "source": [
    "%%time\n",
    "# Modin `groupby`\n",
    "results = csv_data.groupby(by=csv_data.col_1).sum()"
   ]
  },
  {
   "cell_type": "markdown",
   "metadata": {
    "slideshow": {
     "slide_type": "slide"
    }
   },
   "source": [
    "# <center><code>df.T</code></center>"
   ]
  },
  {
   "cell_type": "markdown",
   "metadata": {},
   "source": [
    "#### Modin"
   ]
  },
  {
   "cell_type": "code",
   "execution_count": 9,
   "metadata": {
    "slideshow": {
     "slide_type": "-"
    }
   },
   "outputs": [
    {
     "name": "stdout",
     "output_type": "stream",
     "text": [
      "CPU times: user 38 µs, sys: 7 µs, total: 45 µs\n",
      "Wall time: 49.1 µs\n"
     ]
    }
   ],
   "source": [
    "%%time\n",
    "# Modin transpose\n",
    "results_transpose = results.T"
   ]
  },
  {
   "cell_type": "code",
   "execution_count": 10,
   "metadata": {},
   "outputs": [
    {
     "data": {
      "text/html": [
       "<div>\n",
       "<style scoped>\n",
       "    .dataframe tbody tr th:only-of-type {\n",
       "        vertical-align: middle;\n",
       "    }\n",
       "\n",
       "    .dataframe tbody tr th {\n",
       "        vertical-align: top;\n",
       "    }\n",
       "\n",
       "    .dataframe thead th {\n",
       "        text-align: right;\n",
       "    }\n",
       "</style>\n",
       "<table border=\"1\" class=\"dataframe\">\n",
       "  <thead>\n",
       "    <tr style=\"text-align: right;\">\n",
       "      <th></th>\n",
       "      <th>0</th>\n",
       "      <th>1</th>\n",
       "      <th>2</th>\n",
       "      <th>3</th>\n",
       "      <th>4</th>\n",
       "      <th>5</th>\n",
       "      <th>6</th>\n",
       "      <th>7</th>\n",
       "      <th>8</th>\n",
       "      <th>9</th>\n",
       "      <th>...</th>\n",
       "      <th>90</th>\n",
       "      <th>91</th>\n",
       "      <th>92</th>\n",
       "      <th>93</th>\n",
       "      <th>94</th>\n",
       "      <th>95</th>\n",
       "      <th>96</th>\n",
       "      <th>97</th>\n",
       "      <th>98</th>\n",
       "      <th>99</th>\n",
       "    </tr>\n",
       "  </thead>\n",
       "  <tbody>\n",
       "    <tr>\n",
       "      <th>col_251</th>\n",
       "      <td>510687</td>\n",
       "      <td>532665</td>\n",
       "      <td>531041</td>\n",
       "      <td>518312</td>\n",
       "      <td>514216</td>\n",
       "      <td>512767</td>\n",
       "      <td>517570</td>\n",
       "      <td>522186</td>\n",
       "      <td>512149</td>\n",
       "      <td>518341</td>\n",
       "      <td>...</td>\n",
       "      <td>516180</td>\n",
       "      <td>516238</td>\n",
       "      <td>518686</td>\n",
       "      <td>522299</td>\n",
       "      <td>530929</td>\n",
       "      <td>518363</td>\n",
       "      <td>515769</td>\n",
       "      <td>519990</td>\n",
       "      <td>520853</td>\n",
       "      <td>516718</td>\n",
       "    </tr>\n",
       "    <tr>\n",
       "      <th>col_252</th>\n",
       "      <td>506608</td>\n",
       "      <td>532956</td>\n",
       "      <td>527241</td>\n",
       "      <td>527219</td>\n",
       "      <td>517928</td>\n",
       "      <td>512462</td>\n",
       "      <td>518954</td>\n",
       "      <td>518623</td>\n",
       "      <td>510923</td>\n",
       "      <td>523518</td>\n",
       "      <td>...</td>\n",
       "      <td>517377</td>\n",
       "      <td>513713</td>\n",
       "      <td>517771</td>\n",
       "      <td>529987</td>\n",
       "      <td>534633</td>\n",
       "      <td>513980</td>\n",
       "      <td>511530</td>\n",
       "      <td>518929</td>\n",
       "      <td>523025</td>\n",
       "      <td>514076</td>\n",
       "    </tr>\n",
       "    <tr>\n",
       "      <th>col_253</th>\n",
       "      <td>507078</td>\n",
       "      <td>530762</td>\n",
       "      <td>535021</td>\n",
       "      <td>519887</td>\n",
       "      <td>520246</td>\n",
       "      <td>515980</td>\n",
       "      <td>516653</td>\n",
       "      <td>524330</td>\n",
       "      <td>510801</td>\n",
       "      <td>520746</td>\n",
       "      <td>...</td>\n",
       "      <td>516373</td>\n",
       "      <td>521599</td>\n",
       "      <td>512115</td>\n",
       "      <td>528876</td>\n",
       "      <td>529613</td>\n",
       "      <td>513792</td>\n",
       "      <td>521189</td>\n",
       "      <td>515032</td>\n",
       "      <td>522286</td>\n",
       "      <td>515301</td>\n",
       "    </tr>\n",
       "    <tr>\n",
       "      <th>col_254</th>\n",
       "      <td>506274</td>\n",
       "      <td>527389</td>\n",
       "      <td>534761</td>\n",
       "      <td>516021</td>\n",
       "      <td>517681</td>\n",
       "      <td>515188</td>\n",
       "      <td>517922</td>\n",
       "      <td>522157</td>\n",
       "      <td>514011</td>\n",
       "      <td>515284</td>\n",
       "      <td>...</td>\n",
       "      <td>513980</td>\n",
       "      <td>516344</td>\n",
       "      <td>514599</td>\n",
       "      <td>529063</td>\n",
       "      <td>531735</td>\n",
       "      <td>515256</td>\n",
       "      <td>509626</td>\n",
       "      <td>518098</td>\n",
       "      <td>522041</td>\n",
       "      <td>527306</td>\n",
       "    </tr>\n",
       "    <tr>\n",
       "      <th>col_255</th>\n",
       "      <td>511399</td>\n",
       "      <td>527227</td>\n",
       "      <td>531609</td>\n",
       "      <td>517430</td>\n",
       "      <td>521920</td>\n",
       "      <td>509612</td>\n",
       "      <td>518645</td>\n",
       "      <td>525048</td>\n",
       "      <td>510239</td>\n",
       "      <td>517014</td>\n",
       "      <td>...</td>\n",
       "      <td>517766</td>\n",
       "      <td>519192</td>\n",
       "      <td>513554</td>\n",
       "      <td>532277</td>\n",
       "      <td>530755</td>\n",
       "      <td>515562</td>\n",
       "      <td>521128</td>\n",
       "      <td>519129</td>\n",
       "      <td>520482</td>\n",
       "      <td>520019</td>\n",
       "    </tr>\n",
       "  </tbody>\n",
       "</table>\n",
       "<p>5 rows x 100 columns</p>\n",
       "</div>"
      ],
      "text/plain": [
       "             0       1       2       3       4       5       6       7   \\\n",
       "col_251  510687  532665  531041  518312  514216  512767  517570  522186   \n",
       "col_252  506608  532956  527241  527219  517928  512462  518954  518623   \n",
       "col_253  507078  530762  535021  519887  520246  515980  516653  524330   \n",
       "col_254  506274  527389  534761  516021  517681  515188  517922  522157   \n",
       "col_255  511399  527227  531609  517430  521920  509612  518645  525048   \n",
       "\n",
       "             8       9    ...        90      91      92      93      94  \\\n",
       "col_251  512149  518341   ...    516180  516238  518686  522299  530929   \n",
       "col_252  510923  523518   ...    517377  513713  517771  529987  534633   \n",
       "col_253  510801  520746   ...    516373  521599  512115  528876  529613   \n",
       "col_254  514011  515284   ...    513980  516344  514599  529063  531735   \n",
       "col_255  510239  517014   ...    517766  519192  513554  532277  530755   \n",
       "\n",
       "             95      96      97      98      99  \n",
       "col_251  518363  515769  519990  520853  516718  \n",
       "col_252  513980  511530  518929  523025  514076  \n",
       "col_253  513792  521189  515032  522286  515301  \n",
       "col_254  515256  509626  518098  522041  527306  \n",
       "col_255  515562  521128  519129  520482  520019  \n",
       "\n",
       "[5 rows x 100 columns]"
      ]
     },
     "execution_count": 10,
     "metadata": {},
     "output_type": "execute_result"
    }
   ],
   "source": [
    "results_transpose.tail()"
   ]
  },
  {
   "cell_type": "markdown",
   "metadata": {
    "slideshow": {
     "slide_type": "slide"
    }
   },
   "source": [
    "<center><h3>All partitioning and shuffling is handled for you!</h3></center>"
   ]
  },
  {
   "cell_type": "markdown",
   "metadata": {
    "slideshow": {
     "slide_type": "slide"
    }
   },
   "source": [
    "<center><h1>How do we get this speedup?</h1></center>\n",
    "<br><br>\n",
    "<center><h3>Modern laptop</h3></center>"
   ]
  },
  {
   "cell_type": "markdown",
   "metadata": {
    "slideshow": {
     "slide_type": "-"
    }
   },
   "source": [
    "<center><img src=\"multicore_start.png\"></center>"
   ]
  },
  {
   "cell_type": "markdown",
   "metadata": {
    "slideshow": {
     "slide_type": "slide"
    }
   },
   "source": [
    "<center><h3>pandas on your Laptop</h3></center>"
   ]
  },
  {
   "cell_type": "markdown",
   "metadata": {
    "slideshow": {
     "slide_type": "-"
    }
   },
   "source": [
    "<center><img src=\"pandas_multicore.png\"></center>"
   ]
  },
  {
   "cell_type": "markdown",
   "metadata": {
    "slideshow": {
     "slide_type": "slide"
    }
   },
   "source": [
    "<center><h3>Modin on your laptop</h3></center>"
   ]
  },
  {
   "cell_type": "markdown",
   "metadata": {
    "slideshow": {
     "slide_type": "-"
    }
   },
   "source": [
    "<center><img src=\"modin_multicore.png\"></center>"
   ]
  },
  {
   "cell_type": "markdown",
   "metadata": {
    "slideshow": {
     "slide_type": "slide"
    }
   },
   "source": [
    "<center><h3>pandas on a large machine</h3></center>"
   ]
  },
  {
   "cell_type": "markdown",
   "metadata": {
    "slideshow": {
     "slide_type": "-"
    }
   },
   "source": [
    "<center><img src=\"pandas_multicore_lots.png\"></center>"
   ]
  },
  {
   "cell_type": "markdown",
   "metadata": {
    "slideshow": {
     "slide_type": "slide"
    }
   },
   "source": [
    "<center><h3>Modin on a large machine</h3></center>"
   ]
  },
  {
   "cell_type": "markdown",
   "metadata": {
    "slideshow": {
     "slide_type": "-"
    }
   },
   "source": [
    "<center><img src=\"modin_multicore_lots.png\"></center>"
   ]
  },
  {
   "cell_type": "markdown",
   "metadata": {
    "slideshow": {
     "slide_type": "slide"
    }
   },
   "source": [
    "<center><h1>Performance of `read_csv` on various amounts of Data using 144 cores</h1></center>\n",
    "<br><br>\n",
    "<center><img src=\"read_csv_plot.png\"></center>"
   ]
  },
  {
   "cell_type": "markdown",
   "metadata": {
    "slideshow": {
     "slide_type": "slide"
    }
   },
   "source": [
    "<center><h1>Modin is an early stage, multi-process DataFrame library with an identical API to pandas.</h1></center>\n",
    "\n",
    "<br><br><br><br>\n",
    "\n",
    "<center><h3>Cluster support coming soon!</h3></center>"
   ]
  },
  {
   "cell_type": "markdown",
   "metadata": {
    "slideshow": {
     "slide_type": "slide"
    }
   },
   "source": [
    "<center><h1>The pandas API is massive!</h1></center>\n",
    "<br><br><br>\n",
    "\n",
    "**`pd.DataFrame`**\n",
    "- 280+ methods\n",
    "\n",
    "**`pd.Series`**\n",
    "- 280+ methods\n",
    "\n",
    "**Other operations (`pd.concat`, etc.)**\n",
    "- 40+ APIs\n"
   ]
  },
  {
   "cell_type": "markdown",
   "metadata": {
    "slideshow": {
     "slide_type": "slide"
    }
   },
   "source": [
    "<center><h3>Where do you even start?</h3></center>"
   ]
  },
  {
   "cell_type": "markdown",
   "metadata": {
    "slideshow": {
     "slide_type": "slide"
    }
   },
   "source": [
    "<center><h1>What do people use in the pandas API?</h1></center>\n",
    "\n",
    "![](https://docs.google.com/spreadsheets/d/e/2PACX-1vSJAqz2lmMe2yxUEV1BDYYJcb7F_javeq1mwW_uoiqOi8WuXQBnDIBAOkeF_WJ9iOtxuJxgvr_8PzFv/pubchart?oid=108581991&format=image)"
   ]
  },
  {
   "cell_type": "markdown",
   "metadata": {
    "slideshow": {
     "slide_type": "fragment"
    }
   },
   "source": [
    "<center><h3>We can implement and optimize in the order of popularity!</h3></center>"
   ]
  },
  {
   "cell_type": "markdown",
   "metadata": {
    "slideshow": {
     "slide_type": "slide"
    }
   },
   "source": [
    "# Implementing and optimizing the pandas API\n",
    "\n",
    "### Rank-ordered by popularity\n",
    "\n",
    "<br><br>\n",
    "\n",
    "- Currently, we support 71.77% of the pandas API in `modin.pandas`\n",
    "- This represents >93% of usage based on our study\n",
    "- `pd.Series` is not yet distributed\n",
    "    - This will help us optimize many operations (e.g. `df.groupby`)\n",
    "- `pd.MultiIndex` preliminarily supported\n",
    "\n",
    "<br><br>"
   ]
  },
  {
   "cell_type": "markdown",
   "metadata": {
    "slideshow": {
     "slide_type": "fragment"
    }
   },
   "source": [
    "<center><h3>What about the rest?</h3></center>"
   ]
  },
  {
   "cell_type": "markdown",
   "metadata": {
    "slideshow": {
     "slide_type": "slide"
    }
   },
   "source": [
    "<center><h1>Defaulting to pandas in Modin</h1></center>\n",
    "\n",
    "<br><br>"
   ]
  },
  {
   "cell_type": "code",
   "execution_count": 11,
   "metadata": {},
   "outputs": [
    {
     "name": "stderr",
     "output_type": "stream",
     "text": [
      "/Users/DevinPetersohn/software_builds/modin/modin/pandas/dataframe.py:5045: UserWarning: Defaulting to Pandas implementation\n",
      "  warnings.warn(\"Defaulting to Pandas implementation\", UserWarning)\n"
     ]
    }
   ],
   "source": [
    "# Covariance not yet implemented, but you can still use it in Modin!\n",
    "cov_df = df.cov()"
   ]
  },
  {
   "cell_type": "code",
   "execution_count": 12,
   "metadata": {},
   "outputs": [
    {
     "data": {
      "text/html": [
       "<div>\n",
       "<style scoped>\n",
       "    .dataframe tbody tr th:only-of-type {\n",
       "        vertical-align: middle;\n",
       "    }\n",
       "\n",
       "    .dataframe tbody tr th {\n",
       "        vertical-align: top;\n",
       "    }\n",
       "\n",
       "    .dataframe thead th {\n",
       "        text-align: right;\n",
       "    }\n",
       "</style>\n",
       "<table border=\"1\" class=\"dataframe\">\n",
       "  <thead>\n",
       "    <tr style=\"text-align: right;\">\n",
       "      <th></th>\n",
       "      <th>col_0</th>\n",
       "      <th>col_1</th>\n",
       "      <th>col_2</th>\n",
       "      <th>col_3</th>\n",
       "      <th>col_4</th>\n",
       "      <th>col_5</th>\n",
       "      <th>col_6</th>\n",
       "      <th>col_7</th>\n",
       "      <th>col_8</th>\n",
       "      <th>col_9</th>\n",
       "      <th>col_10</th>\n",
       "      <th>col_11</th>\n",
       "      <th>col_12</th>\n",
       "      <th>col_13</th>\n",
       "      <th>col_14</th>\n",
       "      <th>col_15</th>\n",
       "    </tr>\n",
       "  </thead>\n",
       "  <tbody>\n",
       "    <tr>\n",
       "      <th>col_0</th>\n",
       "      <td>829.008582</td>\n",
       "      <td>-2.354179</td>\n",
       "      <td>-1.416841</td>\n",
       "      <td>-0.842917</td>\n",
       "      <td>1.940283</td>\n",
       "      <td>-1.943185</td>\n",
       "      <td>-2.303167</td>\n",
       "      <td>1.777532</td>\n",
       "      <td>-0.922861</td>\n",
       "      <td>-2.231256</td>\n",
       "      <td>3.861377</td>\n",
       "      <td>-1.437169</td>\n",
       "      <td>1.478369</td>\n",
       "      <td>0.733189</td>\n",
       "      <td>2.861370</td>\n",
       "      <td>1.597719</td>\n",
       "    </tr>\n",
       "    <tr>\n",
       "      <th>col_1</th>\n",
       "      <td>-2.354179</td>\n",
       "      <td>832.693612</td>\n",
       "      <td>3.025415</td>\n",
       "      <td>2.695618</td>\n",
       "      <td>0.052238</td>\n",
       "      <td>6.658226</td>\n",
       "      <td>2.228723</td>\n",
       "      <td>0.043625</td>\n",
       "      <td>0.175632</td>\n",
       "      <td>-0.330016</td>\n",
       "      <td>1.275915</td>\n",
       "      <td>-0.242055</td>\n",
       "      <td>0.835773</td>\n",
       "      <td>-5.747407</td>\n",
       "      <td>4.549550</td>\n",
       "      <td>4.387604</td>\n",
       "    </tr>\n",
       "    <tr>\n",
       "      <th>col_2</th>\n",
       "      <td>-1.416841</td>\n",
       "      <td>3.025415</td>\n",
       "      <td>831.740214</td>\n",
       "      <td>-6.414016</td>\n",
       "      <td>-1.145057</td>\n",
       "      <td>0.395215</td>\n",
       "      <td>1.900912</td>\n",
       "      <td>0.593963</td>\n",
       "      <td>0.400486</td>\n",
       "      <td>-1.778687</td>\n",
       "      <td>8.051968</td>\n",
       "      <td>-0.065934</td>\n",
       "      <td>2.736739</td>\n",
       "      <td>-1.564379</td>\n",
       "      <td>5.221482</td>\n",
       "      <td>0.741956</td>\n",
       "    </tr>\n",
       "    <tr>\n",
       "      <th>col_3</th>\n",
       "      <td>-0.842917</td>\n",
       "      <td>2.695618</td>\n",
       "      <td>-6.414016</td>\n",
       "      <td>834.878803</td>\n",
       "      <td>-8.021696</td>\n",
       "      <td>-0.736039</td>\n",
       "      <td>-3.000398</td>\n",
       "      <td>2.763483</td>\n",
       "      <td>-7.845078</td>\n",
       "      <td>2.142328</td>\n",
       "      <td>3.651759</td>\n",
       "      <td>-5.780861</td>\n",
       "      <td>-3.490790</td>\n",
       "      <td>-4.883697</td>\n",
       "      <td>-1.184995</td>\n",
       "      <td>-3.102995</td>\n",
       "    </tr>\n",
       "    <tr>\n",
       "      <th>col_4</th>\n",
       "      <td>1.940283</td>\n",
       "      <td>0.052238</td>\n",
       "      <td>-1.145057</td>\n",
       "      <td>-8.021696</td>\n",
       "      <td>834.906930</td>\n",
       "      <td>-3.574851</td>\n",
       "      <td>1.214925</td>\n",
       "      <td>0.413699</td>\n",
       "      <td>-2.776199</td>\n",
       "      <td>3.811421</td>\n",
       "      <td>2.769459</td>\n",
       "      <td>0.208708</td>\n",
       "      <td>-2.992184</td>\n",
       "      <td>-1.502127</td>\n",
       "      <td>0.419019</td>\n",
       "      <td>2.621853</td>\n",
       "    </tr>\n",
       "  </tbody>\n",
       "</table>\n",
       "</div>"
      ],
      "text/plain": [
       "            col_0       col_1       col_2       col_3       col_4     col_5  \\\n",
       "col_0  829.008582   -2.354179   -1.416841   -0.842917    1.940283 -1.943185   \n",
       "col_1   -2.354179  832.693612    3.025415    2.695618    0.052238  6.658226   \n",
       "col_2   -1.416841    3.025415  831.740214   -6.414016   -1.145057  0.395215   \n",
       "col_3   -0.842917    2.695618   -6.414016  834.878803   -8.021696 -0.736039   \n",
       "col_4    1.940283    0.052238   -1.145057   -8.021696  834.906930 -3.574851   \n",
       "\n",
       "          col_6     col_7     col_8     col_9    col_10    col_11    col_12  \\\n",
       "col_0 -2.303167  1.777532 -0.922861 -2.231256  3.861377 -1.437169  1.478369   \n",
       "col_1  2.228723  0.043625  0.175632 -0.330016  1.275915 -0.242055  0.835773   \n",
       "col_2  1.900912  0.593963  0.400486 -1.778687  8.051968 -0.065934  2.736739   \n",
       "col_3 -3.000398  2.763483 -7.845078  2.142328  3.651759 -5.780861 -3.490790   \n",
       "col_4  1.214925  0.413699 -2.776199  3.811421  2.769459  0.208708 -2.992184   \n",
       "\n",
       "         col_13    col_14    col_15  \n",
       "col_0  0.733189  2.861370  1.597719  \n",
       "col_1 -5.747407  4.549550  4.387604  \n",
       "col_2 -1.564379  5.221482  0.741956  \n",
       "col_3 -4.883697 -1.184995 -3.102995  \n",
       "col_4 -1.502127  0.419019  2.621853  "
      ]
     },
     "execution_count": 12,
     "metadata": {},
     "output_type": "execute_result"
    }
   ],
   "source": [
    "# Print the first 5 lines of the result. NOTE: This is a Modin DataFrame\n",
    "cov_df.head()"
   ]
  },
  {
   "cell_type": "markdown",
   "metadata": {
    "slideshow": {
     "slide_type": "slide"
    }
   },
   "source": [
    "<center><h1>Defaulting to pandas in Modin</h1></center>\n",
    "\n",
    "<br><br>"
   ]
  },
  {
   "cell_type": "markdown",
   "metadata": {},
   "source": [
    "![](convert_to_pandas.png)"
   ]
  },
  {
   "cell_type": "markdown",
   "metadata": {
    "slideshow": {
     "slide_type": "slide"
    }
   },
   "source": [
    "<center><h1>Now you can do almost anything in Modin you normally could do in pandas!</h1></center>\n",
    "\n",
    "<br><br>\n",
    "\n"
   ]
  },
  {
   "cell_type": "markdown",
   "metadata": {
    "slideshow": {
     "slide_type": "slide"
    }
   },
   "source": [
    "# Modin: Behind the Scenes"
   ]
  },
  {
   "cell_type": "markdown",
   "metadata": {},
   "source": [
    "![](allNoBox.png)"
   ]
  },
  {
   "cell_type": "markdown",
   "metadata": {
    "slideshow": {
     "slide_type": "slide"
    }
   },
   "source": [
    "# Modin: Behind the Scenes"
   ]
  },
  {
   "cell_type": "markdown",
   "metadata": {},
   "source": [
    "![](pandasAPI.png)"
   ]
  },
  {
   "cell_type": "markdown",
   "metadata": {
    "slideshow": {
     "slide_type": "slide"
    }
   },
   "source": [
    "# Modin: Behind the Scenes"
   ]
  },
  {
   "cell_type": "markdown",
   "metadata": {},
   "source": [
    "![](queryCompiler.png)"
   ]
  },
  {
   "cell_type": "markdown",
   "metadata": {
    "slideshow": {
     "slide_type": "slide"
    }
   },
   "source": [
    "# Modin: Behind the Scenes"
   ]
  },
  {
   "cell_type": "markdown",
   "metadata": {},
   "source": [
    "![](partitionManager.png)"
   ]
  },
  {
   "cell_type": "markdown",
   "metadata": {
    "slideshow": {
     "slide_type": "slide"
    }
   },
   "source": [
    "# Modin: Behind the Scenes"
   ]
  },
  {
   "cell_type": "markdown",
   "metadata": {},
   "source": [
    "![](partitions.png)"
   ]
  },
  {
   "cell_type": "markdown",
   "metadata": {
    "slideshow": {
     "slide_type": "slide"
    }
   },
   "source": [
    "# Modin: Behind the Scenes"
   ]
  },
  {
   "cell_type": "markdown",
   "metadata": {},
   "source": [
    "![](all.png)"
   ]
  },
  {
   "cell_type": "markdown",
   "metadata": {
    "slideshow": {
     "slide_type": "slide"
    }
   },
   "source": [
    "# What is Ray?"
   ]
  },
  {
   "cell_type": "markdown",
   "metadata": {
    "slideshow": {
     "slide_type": "slide"
    }
   },
   "source": [
    "# Ray: A task parallel, low latency execution framework\n",
    "\n",
    "<br><br><br><br>\n",
    "\n",
    "![](ray_architecture_diagram.jpg)"
   ]
  },
  {
   "cell_type": "markdown",
   "metadata": {
    "slideshow": {
     "slide_type": "slide"
    }
   },
   "source": [
    "# Ray: A system for parallel and distributed Python that unifies the ML ecosystem.\n",
    "\n",
    "<br><br><br>\n",
    "\n",
    "![](ray_overview.jpg)"
   ]
  },
  {
   "cell_type": "markdown",
   "metadata": {
    "slideshow": {
     "slide_type": "slide"
    }
   },
   "source": [
    "# Ray\n",
    "\n",
    "- Ray is open source at https://github.com/ray-project/ray\n",
    "- Visit Ray's documentation for more: http://ray.readthedocs.io/en/latest/index.html"
   ]
  },
  {
   "cell_type": "markdown",
   "metadata": {
    "slideshow": {
     "slide_type": "slide"
    }
   },
   "source": [
    "<center><h1>Demo!</h1></center>"
   ]
  },
  {
   "cell_type": "markdown",
   "metadata": {
    "slideshow": {
     "slide_type": "slide"
    }
   },
   "source": [
    "# Conclusion\n",
    "\n",
    "### Modin: Accelerate your pandas by changing one line of code\n",
    "\n",
    "<br><br>\n",
    "\n",
    "- API is identical to pandas\n",
    "- No distributed computing knowledge required!\n",
    "- Brief architecture overview\n",
    "- Introduction to Ray"
   ]
  },
  {
   "cell_type": "markdown",
   "metadata": {
    "slideshow": {
     "slide_type": "slide"
    }
   },
   "source": [
    "# Modin moving forward\n",
    "\n",
    "- Memory management\n",
    "    - Out of core, or DataFrames exceeding memory\n",
    "- Query planning (exciting research to be done here!)\n",
    "- Better partitioning planning\n",
    "- More API coverage\n",
    "- Distributed `pd.Series`\n",
    "- Currently support most recent stable release of pandas API (0.23.4)\n",
    "    - Continue supporting pandas API changes in the future\n",
    "- Modin is only 8 months old!\n",
    "\n",
    "<br><br>\n",
    "\n",
    "# Interested in contributing? We'd love to have you!\n",
    "\n",
    "- Email the mailing list (found in the documentation)\n",
    "- Pick an issue!\n",
    "- Come find me @ PyData!"
   ]
  },
  {
   "cell_type": "markdown",
   "metadata": {
    "slideshow": {
     "slide_type": "slide"
    }
   },
   "source": [
    "# Modin (모든)\n",
    "\n",
    "### Accelerate your pandas workflows by changing one line of code\n",
    "<br>\n",
    "\n",
    "```python\n",
    "# import pandas as pd\n",
    "import modin.pandas as pd\n",
    "```\n",
    "\n",
    "### Modin is open source at https://github.com/modin-project/modin\n",
    "### Install with `pip install modin`\n",
    "### Documentation: https://modin.readthedocs.io/en/latest/\n",
    "\n",
    "<br>\n",
    "\n",
    "##### Devin Petersohn: devin@eecs.berkeley.edu\n",
    "<center><h1>Thank you</h1></center>"
   ]
  }
 ],
 "metadata": {
  "celltoolbar": "Slideshow",
  "kernelspec": {
   "display_name": "Python 3",
   "language": "python",
   "name": "python3"
  },
  "language_info": {
   "codemirror_mode": {
    "name": "ipython",
    "version": 3
   },
   "file_extension": ".py",
   "mimetype": "text/x-python",
   "name": "python",
   "nbconvert_exporter": "python",
   "pygments_lexer": "ipython3",
   "version": "3.6.6"
  }
 },
 "nbformat": 4,
 "nbformat_minor": 2
}
