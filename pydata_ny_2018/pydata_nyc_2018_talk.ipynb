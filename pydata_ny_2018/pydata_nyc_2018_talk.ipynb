{
 "cells": [
  {
   "cell_type": "markdown",
   "metadata": {
    "slideshow": {
     "slide_type": "slide"
    }
   },
   "source": [
    "<img align=\"right\" style=\"display:inline;\" width=\"400\" src=\"https://camo.githubusercontent.com/c288679ac2172d1804d8c73e0bb79e066f57e358/68747470733a2f2f676973742e6769746875622e636f6d2f646576696e2d7065746572736f686e2f66343234643966623535373961393635303763373039613336643438376632342f7261772f343936333164333739623662363364613566313833383962346661363061643433363465373764352f726973656c61622d61742d75632d6265726b656c65792e6a7067\">\n",
    "\n",
    "<br><br><br><br><br><br><br><br><br>\n",
    "<b><font size=\"7\">Modin (Pandas on Ray)</font></b>\n",
    "\n",
    "<h3>Accelerate your pandas workflows by changing one line of code</h3>\n",
    "\n",
    "<br><br>\n",
    "\n",
    "##### Devin Petersohn"
   ]
  },
  {
   "cell_type": "markdown",
   "metadata": {
    "slideshow": {
     "slide_type": "slide"
    }
   },
   "source": [
    "# An anecdote to get started\n",
    "My background: Genomics and Computational Biology Data Science\n",
    "<br><br>"
   ]
  },
  {
   "cell_type": "markdown",
   "metadata": {
    "slideshow": {
     "slide_type": "fragment"
    }
   },
   "source": [
    "**Comments from a Data Scientist who runs production genomics workloads:** \n",
    "- \"Data is too large to use in pandas (10's of GB to TB)\"\n",
    "- \"I want to interact with my data\"\n",
    "- \"I end up using Big Data tools to trim the data down and use pandas to analyze it\""
   ]
  },
  {
   "cell_type": "markdown",
   "metadata": {
    "slideshow": {
     "slide_type": "slide"
    }
   },
   "source": [
    "<h1><center>\"Why can't we use the same tools for Kilo- and Megabyte-scale data as we do for Terabyte-scale data (and vice versa)?\"</center></h1>"
   ]
  },
  {
   "cell_type": "markdown",
   "metadata": {
    "slideshow": {
     "slide_type": "slide"
    }
   },
   "source": [
    "<font color=\"navy\"><h1>Current Data Science Landscape</h1></font>\n",
    "<br><br>\n",
    "\n",
    "![](mbTools.png)"
   ]
  },
  {
   "cell_type": "markdown",
   "metadata": {
    "slideshow": {
     "slide_type": "slide"
    }
   },
   "source": [
    "<font color=\"navy\"><h1>Current Data Science Landscape</h1></font>\n",
    "<br><br>\n",
    "\n",
    "![](tbTools.png)"
   ]
  },
  {
   "cell_type": "markdown",
   "metadata": {
    "slideshow": {
     "slide_type": "slide"
    }
   },
   "source": [
    "<font color=\"navy\"><h1>Current Data Science Landscape</h1></font>\n",
    "<br><br>\n",
    "![](toolsNoArrow.png)"
   ]
  },
  {
   "cell_type": "markdown",
   "metadata": {
    "slideshow": {
     "slide_type": "slide"
    }
   },
   "source": [
    "<font color=\"navy\"><h1>Current Data Science Landscape</h1></font>\n",
    "<br><br>\n",
    "![](toolsFinal.png)"
   ]
  },
  {
   "cell_type": "markdown",
   "metadata": {
    "slideshow": {
     "slide_type": "slide"
    }
   },
   "source": [
    "<font color=\"navy\"><h1>Current Data Science Landscape (1TB+)</h1></font>\n",
    "<br><br>\n",
    "\n",
    "- New Frameworks = New APIs\n",
    "    - Many also support SQL - This is good!\n",
    "    - However, many pandas operations not covered by SQL (e.g. `iloc`)\n",
    "- Expose distributed computing concepts to users\n",
    "    - Partitioning and shuffling\n",
    "    - Tuning crucial for performance\n",
    "- Many are too heavyweight for good performance at smaller scale\n",
    "- Optimized for batching, not necessarily optimized for 2D matrix operations"
   ]
  },
  {
   "cell_type": "markdown",
   "metadata": {
    "slideshow": {
     "slide_type": "slide"
    }
   },
   "source": [
    "<center><h1>What is it about extracting value from data that requires expertise in distributed computing?</h1></center>\n",
    "<br><br><br><br>\n",
    "<center><h3>Nothing!</h3></center>"
   ]
  },
  {
   "cell_type": "markdown",
   "metadata": {
    "slideshow": {
     "slide_type": "slide"
    }
   },
   "source": [
    "<center><h1>With Modin, we are trying to bridge the gap between analytics at MBs and TBs+</h1></center>"
   ]
  },
  {
   "cell_type": "markdown",
   "metadata": {
    "slideshow": {
     "slide_type": "slide"
    }
   },
   "source": [
    "# Modin (모든)\n",
    "\n",
    "### Accelerate your pandas workflows by changing one line of code\n",
    "<br><br>"
   ]
  },
  {
   "cell_type": "code",
   "execution_count": 1,
   "metadata": {
    "slideshow": {
     "slide_type": "fragment"
    }
   },
   "outputs": [
    {
     "name": "stderr",
     "output_type": "stream",
     "text": [
      "Process STDOUT and STDERR is being redirected to /tmp/raylogs/.\n",
      "Waiting for redis server at 127.0.0.1:25501 to respond...\n",
      "Waiting for redis server at 127.0.0.1:17414 to respond...\n",
      "Starting the Plasma object store with 27.00 GB memory.\n"
     ]
    }
   ],
   "source": [
    "# import pandas as pd\n",
    "import modin.pandas as pd"
   ]
  },
  {
   "cell_type": "markdown",
   "metadata": {},
   "source": [
    "<center><h4>This notebook was run on a 2013 iMac with 4-cores and 32GB RAM</h4></center>"
   ]
  },
  {
   "cell_type": "code",
   "execution_count": 2,
   "metadata": {
    "slideshow": {
     "slide_type": "slide"
    }
   },
   "outputs": [
    {
     "data": {
      "text/plain": [
       "modin.pandas.dataframe.DataFrame"
      ]
     },
     "execution_count": 2,
     "metadata": {},
     "output_type": "execute_result"
    }
   ],
   "source": [
    "import numpy as np\n",
    "\n",
    "# Build a 2D numpy array filled with random integers\n",
    "frame_data = np.random.randint(0, 100, size=(2**16, 2**4))\n",
    "# Put the new random data into a dataframe\n",
    "df = pd.DataFrame(frame_data)\n",
    "# Add a prefix to each column for simplicity\n",
    "df = df.add_prefix(\"col_\")\n",
    "type(df)"
   ]
  },
  {
   "cell_type": "code",
   "execution_count": 3,
   "metadata": {
    "slideshow": {
     "slide_type": "slide"
    }
   },
   "outputs": [
    {
     "data": {
      "text/html": [
       "<div>\n",
       "<style scoped>\n",
       "    .dataframe tbody tr th:only-of-type {\n",
       "        vertical-align: middle;\n",
       "    }\n",
       "\n",
       "    .dataframe tbody tr th {\n",
       "        vertical-align: top;\n",
       "    }\n",
       "\n",
       "    .dataframe thead th {\n",
       "        text-align: right;\n",
       "    }\n",
       "</style>\n",
       "<table border=\"1\" class=\"dataframe\">\n",
       "  <thead>\n",
       "    <tr style=\"text-align: right;\">\n",
       "      <th></th>\n",
       "      <th>col_0</th>\n",
       "      <th>col_1</th>\n",
       "      <th>col_2</th>\n",
       "      <th>col_3</th>\n",
       "      <th>col_4</th>\n",
       "      <th>col_5</th>\n",
       "      <th>col_6</th>\n",
       "      <th>col_7</th>\n",
       "      <th>col_8</th>\n",
       "      <th>col_9</th>\n",
       "      <th>col_10</th>\n",
       "      <th>col_11</th>\n",
       "      <th>col_12</th>\n",
       "      <th>col_13</th>\n",
       "      <th>col_14</th>\n",
       "      <th>col_15</th>\n",
       "    </tr>\n",
       "  </thead>\n",
       "  <tbody>\n",
       "    <tr>\n",
       "      <th>0</th>\n",
       "      <td>5</td>\n",
       "      <td>8</td>\n",
       "      <td>90</td>\n",
       "      <td>34</td>\n",
       "      <td>14</td>\n",
       "      <td>37</td>\n",
       "      <td>92</td>\n",
       "      <td>73</td>\n",
       "      <td>81</td>\n",
       "      <td>27</td>\n",
       "      <td>28</td>\n",
       "      <td>74</td>\n",
       "      <td>57</td>\n",
       "      <td>55</td>\n",
       "      <td>30</td>\n",
       "      <td>63</td>\n",
       "    </tr>\n",
       "    <tr>\n",
       "      <th>1</th>\n",
       "      <td>97</td>\n",
       "      <td>0</td>\n",
       "      <td>28</td>\n",
       "      <td>53</td>\n",
       "      <td>19</td>\n",
       "      <td>89</td>\n",
       "      <td>39</td>\n",
       "      <td>7</td>\n",
       "      <td>97</td>\n",
       "      <td>94</td>\n",
       "      <td>17</td>\n",
       "      <td>55</td>\n",
       "      <td>85</td>\n",
       "      <td>92</td>\n",
       "      <td>61</td>\n",
       "      <td>97</td>\n",
       "    </tr>\n",
       "    <tr>\n",
       "      <th>2</th>\n",
       "      <td>59</td>\n",
       "      <td>91</td>\n",
       "      <td>27</td>\n",
       "      <td>83</td>\n",
       "      <td>60</td>\n",
       "      <td>84</td>\n",
       "      <td>70</td>\n",
       "      <td>27</td>\n",
       "      <td>8</td>\n",
       "      <td>61</td>\n",
       "      <td>58</td>\n",
       "      <td>19</td>\n",
       "      <td>87</td>\n",
       "      <td>31</td>\n",
       "      <td>9</td>\n",
       "      <td>68</td>\n",
       "    </tr>\n",
       "    <tr>\n",
       "      <th>3</th>\n",
       "      <td>80</td>\n",
       "      <td>12</td>\n",
       "      <td>55</td>\n",
       "      <td>28</td>\n",
       "      <td>98</td>\n",
       "      <td>32</td>\n",
       "      <td>66</td>\n",
       "      <td>80</td>\n",
       "      <td>75</td>\n",
       "      <td>64</td>\n",
       "      <td>91</td>\n",
       "      <td>66</td>\n",
       "      <td>67</td>\n",
       "      <td>80</td>\n",
       "      <td>50</td>\n",
       "      <td>31</td>\n",
       "    </tr>\n",
       "    <tr>\n",
       "      <th>4</th>\n",
       "      <td>18</td>\n",
       "      <td>3</td>\n",
       "      <td>25</td>\n",
       "      <td>69</td>\n",
       "      <td>67</td>\n",
       "      <td>73</td>\n",
       "      <td>59</td>\n",
       "      <td>86</td>\n",
       "      <td>55</td>\n",
       "      <td>16</td>\n",
       "      <td>45</td>\n",
       "      <td>42</td>\n",
       "      <td>12</td>\n",
       "      <td>53</td>\n",
       "      <td>44</td>\n",
       "      <td>66</td>\n",
       "    </tr>\n",
       "    <tr>\n",
       "      <th>5</th>\n",
       "      <td>62</td>\n",
       "      <td>60</td>\n",
       "      <td>64</td>\n",
       "      <td>56</td>\n",
       "      <td>44</td>\n",
       "      <td>14</td>\n",
       "      <td>75</td>\n",
       "      <td>5</td>\n",
       "      <td>75</td>\n",
       "      <td>69</td>\n",
       "      <td>30</td>\n",
       "      <td>64</td>\n",
       "      <td>34</td>\n",
       "      <td>1</td>\n",
       "      <td>83</td>\n",
       "      <td>52</td>\n",
       "    </tr>\n",
       "    <tr>\n",
       "      <th>6</th>\n",
       "      <td>41</td>\n",
       "      <td>45</td>\n",
       "      <td>50</td>\n",
       "      <td>44</td>\n",
       "      <td>50</td>\n",
       "      <td>62</td>\n",
       "      <td>56</td>\n",
       "      <td>11</td>\n",
       "      <td>29</td>\n",
       "      <td>40</td>\n",
       "      <td>32</td>\n",
       "      <td>49</td>\n",
       "      <td>17</td>\n",
       "      <td>38</td>\n",
       "      <td>13</td>\n",
       "      <td>87</td>\n",
       "    </tr>\n",
       "    <tr>\n",
       "      <th>7</th>\n",
       "      <td>54</td>\n",
       "      <td>2</td>\n",
       "      <td>15</td>\n",
       "      <td>60</td>\n",
       "      <td>1</td>\n",
       "      <td>11</td>\n",
       "      <td>15</td>\n",
       "      <td>95</td>\n",
       "      <td>80</td>\n",
       "      <td>62</td>\n",
       "      <td>97</td>\n",
       "      <td>74</td>\n",
       "      <td>87</td>\n",
       "      <td>33</td>\n",
       "      <td>84</td>\n",
       "      <td>24</td>\n",
       "    </tr>\n",
       "    <tr>\n",
       "      <th>8</th>\n",
       "      <td>56</td>\n",
       "      <td>71</td>\n",
       "      <td>21</td>\n",
       "      <td>66</td>\n",
       "      <td>12</td>\n",
       "      <td>41</td>\n",
       "      <td>77</td>\n",
       "      <td>97</td>\n",
       "      <td>56</td>\n",
       "      <td>28</td>\n",
       "      <td>13</td>\n",
       "      <td>94</td>\n",
       "      <td>87</td>\n",
       "      <td>65</td>\n",
       "      <td>78</td>\n",
       "      <td>71</td>\n",
       "    </tr>\n",
       "    <tr>\n",
       "      <th>9</th>\n",
       "      <td>1</td>\n",
       "      <td>40</td>\n",
       "      <td>57</td>\n",
       "      <td>83</td>\n",
       "      <td>56</td>\n",
       "      <td>63</td>\n",
       "      <td>3</td>\n",
       "      <td>24</td>\n",
       "      <td>47</td>\n",
       "      <td>45</td>\n",
       "      <td>8</td>\n",
       "      <td>29</td>\n",
       "      <td>59</td>\n",
       "      <td>94</td>\n",
       "      <td>54</td>\n",
       "      <td>20</td>\n",
       "    </tr>\n",
       "  </tbody>\n",
       "</table>\n",
       "</div>"
      ],
      "text/plain": [
       "   col_0  col_1  col_2  col_3  col_4  col_5  col_6  col_7  col_8  col_9  \\\n",
       "0      5      8     90     34     14     37     92     73     81     27   \n",
       "1     97      0     28     53     19     89     39      7     97     94   \n",
       "2     59     91     27     83     60     84     70     27      8     61   \n",
       "3     80     12     55     28     98     32     66     80     75     64   \n",
       "4     18      3     25     69     67     73     59     86     55     16   \n",
       "5     62     60     64     56     44     14     75      5     75     69   \n",
       "6     41     45     50     44     50     62     56     11     29     40   \n",
       "7     54      2     15     60      1     11     15     95     80     62   \n",
       "8     56     71     21     66     12     41     77     97     56     28   \n",
       "9      1     40     57     83     56     63      3     24     47     45   \n",
       "\n",
       "   col_10  col_11  col_12  col_13  col_14  col_15  \n",
       "0      28      74      57      55      30      63  \n",
       "1      17      55      85      92      61      97  \n",
       "2      58      19      87      31       9      68  \n",
       "3      91      66      67      80      50      31  \n",
       "4      45      42      12      53      44      66  \n",
       "5      30      64      34       1      83      52  \n",
       "6      32      49      17      38      13      87  \n",
       "7      97      74      87      33      84      24  \n",
       "8      13      94      87      65      78      71  \n",
       "9       8      29      59      94      54      20  "
      ]
     },
     "execution_count": 3,
     "metadata": {},
     "output_type": "execute_result"
    }
   ],
   "source": [
    "# Print the first 10 lines of the DataFrame\n",
    "df.head(10)"
   ]
  },
  {
   "cell_type": "markdown",
   "metadata": {
    "slideshow": {
     "slide_type": "slide"
    }
   },
   "source": [
    "<center><h1>Modin manages the data partitioning and shuffling, so you can focus on extracting value from your data</h1></center>\n",
    "<br><br><br><br>\n",
    "<center><h3>After all, isn't that the purpose of Data Science?</h3></center>"
   ]
  },
  {
   "cell_type": "markdown",
   "metadata": {
    "slideshow": {
     "slide_type": "slide"
    }
   },
   "source": [
    "# <center><code>pd.read_csv</code></center>\n",
    "<br>"
   ]
  },
  {
   "cell_type": "code",
   "execution_count": 4,
   "metadata": {
    "slideshow": {
     "slide_type": "-"
    }
   },
   "outputs": [],
   "source": [
    "import pandas"
   ]
  },
  {
   "cell_type": "markdown",
   "metadata": {},
   "source": [
    "#### pandas"
   ]
  },
  {
   "cell_type": "code",
   "execution_count": 5,
   "metadata": {},
   "outputs": [
    {
     "name": "stdout",
     "output_type": "stream",
     "text": [
      "CPU times: user 26.3 s, sys: 3.14 s, total: 29.4 s\n",
      "Wall time: 29.5 s\n"
     ]
    }
   ],
   "source": [
    "%%time\n",
    "# pandas `read_csv`\n",
    "pandas_csv_data = pandas.read_csv(\"800MB.csv\")"
   ]
  },
  {
   "cell_type": "markdown",
   "metadata": {},
   "source": [
    "#### Modin"
   ]
  },
  {
   "cell_type": "code",
   "execution_count": 6,
   "metadata": {},
   "outputs": [
    {
     "name": "stdout",
     "output_type": "stream",
     "text": [
      "CPU times: user 76.7 ms, sys: 5.08 ms, total: 81.8 ms\n",
      "Wall time: 7.6 s\n"
     ]
    }
   ],
   "source": [
    "%%time\n",
    "# Modin `read_csv`\n",
    "csv_data = pd.read_csv(\"800MB.csv\")"
   ]
  },
  {
   "cell_type": "markdown",
   "metadata": {
    "slideshow": {
     "slide_type": "slide"
    }
   },
   "source": [
    "# <center><code>df.groupby</code></center>\n",
    "<br><br>"
   ]
  },
  {
   "cell_type": "markdown",
   "metadata": {},
   "source": [
    "#### pandas"
   ]
  },
  {
   "cell_type": "code",
   "execution_count": 7,
   "metadata": {
    "scrolled": false,
    "slideshow": {
     "slide_type": "-"
    }
   },
   "outputs": [
    {
     "name": "stdout",
     "output_type": "stream",
     "text": [
      "CPU times: user 5.98 s, sys: 1.77 s, total: 7.75 s\n",
      "Wall time: 7.74 s\n"
     ]
    }
   ],
   "source": [
    "%%time\n",
    "# pandas `groupby`\n",
    "_ = pandas_csv_data.groupby(by=pandas_csv_data.col_1).sum()"
   ]
  },
  {
   "cell_type": "markdown",
   "metadata": {},
   "source": [
    "#### Modin"
   ]
  },
  {
   "cell_type": "code",
   "execution_count": 8,
   "metadata": {
    "slideshow": {
     "slide_type": "-"
    }
   },
   "outputs": [
    {
     "name": "stdout",
     "output_type": "stream",
     "text": [
      "CPU times: user 3.18 s, sys: 42.2 ms, total: 3.23 s\n",
      "Wall time: 7.3 s\n"
     ]
    }
   ],
   "source": [
    "%%time\n",
    "# Modin `groupby`\n",
    "results = csv_data.groupby(by=csv_data.col_1).sum()"
   ]
  },
  {
   "cell_type": "markdown",
   "metadata": {
    "slideshow": {
     "slide_type": "slide"
    }
   },
   "source": [
    "# <center><code>df.T</code></center>"
   ]
  },
  {
   "cell_type": "markdown",
   "metadata": {},
   "source": [
    "#### Modin"
   ]
  },
  {
   "cell_type": "code",
   "execution_count": 9,
   "metadata": {
    "slideshow": {
     "slide_type": "-"
    }
   },
   "outputs": [
    {
     "name": "stdout",
     "output_type": "stream",
     "text": [
      "CPU times: user 36 µs, sys: 5 µs, total: 41 µs\n",
      "Wall time: 44.1 µs\n"
     ]
    }
   ],
   "source": [
    "%%time\n",
    "# Modin transpose\n",
    "results_transpose = results.T"
   ]
  },
  {
   "cell_type": "code",
   "execution_count": 10,
   "metadata": {},
   "outputs": [
    {
     "data": {
      "text/html": [
       "<div>\n",
       "<style scoped>\n",
       "    .dataframe tbody tr th:only-of-type {\n",
       "        vertical-align: middle;\n",
       "    }\n",
       "\n",
       "    .dataframe tbody tr th {\n",
       "        vertical-align: top;\n",
       "    }\n",
       "\n",
       "    .dataframe thead th {\n",
       "        text-align: right;\n",
       "    }\n",
       "</style>\n",
       "<table border=\"1\" class=\"dataframe\">\n",
       "  <thead>\n",
       "    <tr style=\"text-align: right;\">\n",
       "      <th></th>\n",
       "      <th>0</th>\n",
       "      <th>1</th>\n",
       "      <th>2</th>\n",
       "      <th>3</th>\n",
       "      <th>4</th>\n",
       "      <th>5</th>\n",
       "      <th>6</th>\n",
       "      <th>7</th>\n",
       "      <th>8</th>\n",
       "      <th>9</th>\n",
       "      <th>...</th>\n",
       "      <th>90</th>\n",
       "      <th>91</th>\n",
       "      <th>92</th>\n",
       "      <th>93</th>\n",
       "      <th>94</th>\n",
       "      <th>95</th>\n",
       "      <th>96</th>\n",
       "      <th>97</th>\n",
       "      <th>98</th>\n",
       "      <th>99</th>\n",
       "    </tr>\n",
       "  </thead>\n",
       "  <tbody>\n",
       "    <tr>\n",
       "      <th>col_251</th>\n",
       "      <td>510687</td>\n",
       "      <td>532665</td>\n",
       "      <td>531041</td>\n",
       "      <td>518312</td>\n",
       "      <td>514216</td>\n",
       "      <td>512767</td>\n",
       "      <td>517570</td>\n",
       "      <td>522186</td>\n",
       "      <td>512149</td>\n",
       "      <td>518341</td>\n",
       "      <td>...</td>\n",
       "      <td>516180</td>\n",
       "      <td>516238</td>\n",
       "      <td>518686</td>\n",
       "      <td>522299</td>\n",
       "      <td>530929</td>\n",
       "      <td>518363</td>\n",
       "      <td>515769</td>\n",
       "      <td>519990</td>\n",
       "      <td>520853</td>\n",
       "      <td>516718</td>\n",
       "    </tr>\n",
       "    <tr>\n",
       "      <th>col_252</th>\n",
       "      <td>506608</td>\n",
       "      <td>532956</td>\n",
       "      <td>527241</td>\n",
       "      <td>527219</td>\n",
       "      <td>517928</td>\n",
       "      <td>512462</td>\n",
       "      <td>518954</td>\n",
       "      <td>518623</td>\n",
       "      <td>510923</td>\n",
       "      <td>523518</td>\n",
       "      <td>...</td>\n",
       "      <td>517377</td>\n",
       "      <td>513713</td>\n",
       "      <td>517771</td>\n",
       "      <td>529987</td>\n",
       "      <td>534633</td>\n",
       "      <td>513980</td>\n",
       "      <td>511530</td>\n",
       "      <td>518929</td>\n",
       "      <td>523025</td>\n",
       "      <td>514076</td>\n",
       "    </tr>\n",
       "    <tr>\n",
       "      <th>col_253</th>\n",
       "      <td>507078</td>\n",
       "      <td>530762</td>\n",
       "      <td>535021</td>\n",
       "      <td>519887</td>\n",
       "      <td>520246</td>\n",
       "      <td>515980</td>\n",
       "      <td>516653</td>\n",
       "      <td>524330</td>\n",
       "      <td>510801</td>\n",
       "      <td>520746</td>\n",
       "      <td>...</td>\n",
       "      <td>516373</td>\n",
       "      <td>521599</td>\n",
       "      <td>512115</td>\n",
       "      <td>528876</td>\n",
       "      <td>529613</td>\n",
       "      <td>513792</td>\n",
       "      <td>521189</td>\n",
       "      <td>515032</td>\n",
       "      <td>522286</td>\n",
       "      <td>515301</td>\n",
       "    </tr>\n",
       "    <tr>\n",
       "      <th>col_254</th>\n",
       "      <td>506274</td>\n",
       "      <td>527389</td>\n",
       "      <td>534761</td>\n",
       "      <td>516021</td>\n",
       "      <td>517681</td>\n",
       "      <td>515188</td>\n",
       "      <td>517922</td>\n",
       "      <td>522157</td>\n",
       "      <td>514011</td>\n",
       "      <td>515284</td>\n",
       "      <td>...</td>\n",
       "      <td>513980</td>\n",
       "      <td>516344</td>\n",
       "      <td>514599</td>\n",
       "      <td>529063</td>\n",
       "      <td>531735</td>\n",
       "      <td>515256</td>\n",
       "      <td>509626</td>\n",
       "      <td>518098</td>\n",
       "      <td>522041</td>\n",
       "      <td>527306</td>\n",
       "    </tr>\n",
       "    <tr>\n",
       "      <th>col_255</th>\n",
       "      <td>511399</td>\n",
       "      <td>527227</td>\n",
       "      <td>531609</td>\n",
       "      <td>517430</td>\n",
       "      <td>521920</td>\n",
       "      <td>509612</td>\n",
       "      <td>518645</td>\n",
       "      <td>525048</td>\n",
       "      <td>510239</td>\n",
       "      <td>517014</td>\n",
       "      <td>...</td>\n",
       "      <td>517766</td>\n",
       "      <td>519192</td>\n",
       "      <td>513554</td>\n",
       "      <td>532277</td>\n",
       "      <td>530755</td>\n",
       "      <td>515562</td>\n",
       "      <td>521128</td>\n",
       "      <td>519129</td>\n",
       "      <td>520482</td>\n",
       "      <td>520019</td>\n",
       "    </tr>\n",
       "  </tbody>\n",
       "</table>\n",
       "<p>5 rows x 100 columns</p>\n",
       "</div>"
      ],
      "text/plain": [
       "             0       1       2       3       4       5       6       7   \\\n",
       "col_251  510687  532665  531041  518312  514216  512767  517570  522186   \n",
       "col_252  506608  532956  527241  527219  517928  512462  518954  518623   \n",
       "col_253  507078  530762  535021  519887  520246  515980  516653  524330   \n",
       "col_254  506274  527389  534761  516021  517681  515188  517922  522157   \n",
       "col_255  511399  527227  531609  517430  521920  509612  518645  525048   \n",
       "\n",
       "             8       9    ...        90      91      92      93      94  \\\n",
       "col_251  512149  518341   ...    516180  516238  518686  522299  530929   \n",
       "col_252  510923  523518   ...    517377  513713  517771  529987  534633   \n",
       "col_253  510801  520746   ...    516373  521599  512115  528876  529613   \n",
       "col_254  514011  515284   ...    513980  516344  514599  529063  531735   \n",
       "col_255  510239  517014   ...    517766  519192  513554  532277  530755   \n",
       "\n",
       "             95      96      97      98      99  \n",
       "col_251  518363  515769  519990  520853  516718  \n",
       "col_252  513980  511530  518929  523025  514076  \n",
       "col_253  513792  521189  515032  522286  515301  \n",
       "col_254  515256  509626  518098  522041  527306  \n",
       "col_255  515562  521128  519129  520482  520019  \n",
       "\n",
       "[5 rows x 100 columns]"
      ]
     },
     "execution_count": 10,
     "metadata": {},
     "output_type": "execute_result"
    }
   ],
   "source": [
    "results_transpose.tail()"
   ]
  },
  {
   "cell_type": "markdown",
   "metadata": {
    "slideshow": {
     "slide_type": "slide"
    }
   },
   "source": [
    "<center><h3>All partitioning and shuffling is handled for you!</h3></center>"
   ]
  },
  {
   "cell_type": "markdown",
   "metadata": {
    "slideshow": {
     "slide_type": "slide"
    }
   },
   "source": [
    "<center><h1>How do we get this speedup?</h1></center>\n",
    "<br><br>\n",
    "<center><h3>Modern laptop</h3></center>"
   ]
  },
  {
   "cell_type": "markdown",
   "metadata": {
    "slideshow": {
     "slide_type": "-"
    }
   },
   "source": [
    "<center><img src=\"multicore_start.png\"></center>"
   ]
  },
  {
   "cell_type": "markdown",
   "metadata": {
    "slideshow": {
     "slide_type": "slide"
    }
   },
   "source": [
    "<center><h3>pandas on your Laptop</h3></center>"
   ]
  },
  {
   "cell_type": "markdown",
   "metadata": {
    "slideshow": {
     "slide_type": "-"
    }
   },
   "source": [
    "<center><img src=\"pandas_multicore.png\"></center>"
   ]
  },
  {
   "cell_type": "markdown",
   "metadata": {
    "slideshow": {
     "slide_type": "slide"
    }
   },
   "source": [
    "<center><h3>Modin on your laptop</h3></center>"
   ]
  },
  {
   "cell_type": "markdown",
   "metadata": {
    "slideshow": {
     "slide_type": "-"
    }
   },
   "source": [
    "<center><img src=\"modin_multicore.png\"></center>"
   ]
  },
  {
   "cell_type": "markdown",
   "metadata": {
    "slideshow": {
     "slide_type": "slide"
    }
   },
   "source": [
    "<center><h3>pandas on a large machine</h3></center>"
   ]
  },
  {
   "cell_type": "markdown",
   "metadata": {
    "slideshow": {
     "slide_type": "-"
    }
   },
   "source": [
    "<center><img src=\"pandas_multicore_lots.png\"></center>"
   ]
  },
  {
   "cell_type": "markdown",
   "metadata": {
    "slideshow": {
     "slide_type": "slide"
    }
   },
   "source": [
    "<center><h3>Modin on a large machine</h3></center>"
   ]
  },
  {
   "cell_type": "markdown",
   "metadata": {
    "slideshow": {
     "slide_type": "-"
    }
   },
   "source": [
    "<center><img src=\"modin_multicore_lots.png\"></center>"
   ]
  },
  {
   "cell_type": "markdown",
   "metadata": {
    "slideshow": {
     "slide_type": "slide"
    }
   },
   "source": [
    "<center><h1>Performance of `read_csv` on various amounts of Data using 144 cores</h1></center>\n",
    "<br><br>\n",
    "<center><img src=\"read_csv_plot.png\"></center>"
   ]
  },
  {
   "cell_type": "markdown",
   "metadata": {
    "slideshow": {
     "slide_type": "slide"
    }
   },
   "source": [
    "<center><h1>Modin is an early stage, multi-process DataFrame library with an identical API to pandas.</h1></center>\n",
    "\n",
    "<br><br><br><br>\n",
    "\n",
    "<center><h3>Cluster support coming soon!</h3></center>"
   ]
  },
  {
   "cell_type": "markdown",
   "metadata": {
    "slideshow": {
     "slide_type": "slide"
    }
   },
   "source": [
    "<center><h1>The pandas API is massive!</h1></center>\n",
    "<br><br><br>\n",
    "\n",
    "**`pd.DataFrame`**\n",
    "- 280+ methods\n",
    "\n",
    "**`pd.Series`**\n",
    "- 280+ methods\n",
    "\n",
    "**Other operations (`pd.concat`, etc.)**\n",
    "- 40+ APIs\n"
   ]
  },
  {
   "cell_type": "markdown",
   "metadata": {
    "slideshow": {
     "slide_type": "slide"
    }
   },
   "source": [
    "<center><h3>Where do you even start?</h3></center>"
   ]
  },
  {
   "cell_type": "markdown",
   "metadata": {
    "slideshow": {
     "slide_type": "slide"
    }
   },
   "source": [
    "<center><h1>What do people use in the pandas API?</h1></center>\n",
    "\n",
    "![](https://docs.google.com/spreadsheets/d/e/2PACX-1vSJAqz2lmMe2yxUEV1BDYYJcb7F_javeq1mwW_uoiqOi8WuXQBnDIBAOkeF_WJ9iOtxuJxgvr_8PzFv/pubchart?oid=108581991&format=image)"
   ]
  },
  {
   "cell_type": "markdown",
   "metadata": {
    "slideshow": {
     "slide_type": "fragment"
    }
   },
   "source": [
    "<center><h3>We can implement and optimize in the order of popularity!</h3></center>"
   ]
  },
  {
   "cell_type": "markdown",
   "metadata": {
    "slideshow": {
     "slide_type": "slide"
    }
   },
   "source": [
    "# Implementing and optimizing the pandas API\n",
    "\n",
    "### Rank-ordered by popularity\n",
    "\n",
    "<br><br>\n",
    "\n",
    "- Currently, we support 71.77% of the pandas API in `modin.pandas`\n",
    "- This represents >93% of usage based on our study\n",
    "- `pd.Series` is not yet distributed\n",
    "    - This will help us optimize many operations (e.g. `df.groupby`)\n",
    "- `pd.MultiIndex` preliminarily supported\n",
    "\n",
    "<br><br>"
   ]
  },
  {
   "cell_type": "markdown",
   "metadata": {
    "slideshow": {
     "slide_type": "fragment"
    }
   },
   "source": [
    "<center><h3>What about the rest?</h3></center>"
   ]
  },
  {
   "cell_type": "markdown",
   "metadata": {
    "slideshow": {
     "slide_type": "slide"
    }
   },
   "source": [
    "<center><h1>Defaulting to pandas in Modin</h1></center>\n",
    "\n",
    "<br><br>"
   ]
  },
  {
   "cell_type": "code",
   "execution_count": 11,
   "metadata": {},
   "outputs": [
    {
     "name": "stderr",
     "output_type": "stream",
     "text": [
      "/Users/DevinPetersohn/software_builds/modin/modin/pandas/dataframe.py:4936: UserWarning: Defaulting to Pandas implementation\n",
      "  warnings.warn(\"Defaulting to Pandas implementation\", UserWarning)\n"
     ]
    }
   ],
   "source": [
    "# Covariance not yet implemented, but you can still use it in Modin!\n",
    "cov_df = df.cov()"
   ]
  },
  {
   "cell_type": "code",
   "execution_count": 12,
   "metadata": {},
   "outputs": [
    {
     "data": {
      "text/html": [
       "<div>\n",
       "<style scoped>\n",
       "    .dataframe tbody tr th:only-of-type {\n",
       "        vertical-align: middle;\n",
       "    }\n",
       "\n",
       "    .dataframe tbody tr th {\n",
       "        vertical-align: top;\n",
       "    }\n",
       "\n",
       "    .dataframe thead th {\n",
       "        text-align: right;\n",
       "    }\n",
       "</style>\n",
       "<table border=\"1\" class=\"dataframe\">\n",
       "  <thead>\n",
       "    <tr style=\"text-align: right;\">\n",
       "      <th></th>\n",
       "      <th>col_0</th>\n",
       "      <th>col_1</th>\n",
       "      <th>col_2</th>\n",
       "      <th>col_3</th>\n",
       "      <th>col_4</th>\n",
       "      <th>col_5</th>\n",
       "      <th>col_6</th>\n",
       "      <th>col_7</th>\n",
       "      <th>col_8</th>\n",
       "      <th>col_9</th>\n",
       "      <th>col_10</th>\n",
       "      <th>col_11</th>\n",
       "      <th>col_12</th>\n",
       "      <th>col_13</th>\n",
       "      <th>col_14</th>\n",
       "      <th>col_15</th>\n",
       "    </tr>\n",
       "  </thead>\n",
       "  <tbody>\n",
       "    <tr>\n",
       "      <th>col_0</th>\n",
       "      <td>831.706909</td>\n",
       "      <td>1.222180</td>\n",
       "      <td>5.278370</td>\n",
       "      <td>8.006473</td>\n",
       "      <td>3.134061</td>\n",
       "      <td>-3.397139</td>\n",
       "      <td>-2.293764</td>\n",
       "      <td>0.659789</td>\n",
       "      <td>-3.398005</td>\n",
       "      <td>0.004688</td>\n",
       "      <td>4.408962</td>\n",
       "      <td>1.620187</td>\n",
       "      <td>4.296154</td>\n",
       "      <td>4.771234</td>\n",
       "      <td>-2.450248</td>\n",
       "      <td>5.105487</td>\n",
       "    </tr>\n",
       "    <tr>\n",
       "      <th>col_1</th>\n",
       "      <td>1.222180</td>\n",
       "      <td>830.094230</td>\n",
       "      <td>-1.444885</td>\n",
       "      <td>-1.991529</td>\n",
       "      <td>2.250838</td>\n",
       "      <td>-1.946475</td>\n",
       "      <td>2.780284</td>\n",
       "      <td>3.171092</td>\n",
       "      <td>2.968332</td>\n",
       "      <td>-0.836585</td>\n",
       "      <td>0.524496</td>\n",
       "      <td>4.900240</td>\n",
       "      <td>2.757136</td>\n",
       "      <td>-3.748321</td>\n",
       "      <td>-4.062521</td>\n",
       "      <td>0.605903</td>\n",
       "    </tr>\n",
       "    <tr>\n",
       "      <th>col_2</th>\n",
       "      <td>5.278370</td>\n",
       "      <td>-1.444885</td>\n",
       "      <td>835.962652</td>\n",
       "      <td>-5.779689</td>\n",
       "      <td>4.582706</td>\n",
       "      <td>2.638338</td>\n",
       "      <td>-0.810444</td>\n",
       "      <td>-1.991004</td>\n",
       "      <td>-3.114369</td>\n",
       "      <td>-1.170409</td>\n",
       "      <td>6.523343</td>\n",
       "      <td>-3.767481</td>\n",
       "      <td>3.899383</td>\n",
       "      <td>1.691931</td>\n",
       "      <td>2.586309</td>\n",
       "      <td>2.192620</td>\n",
       "    </tr>\n",
       "    <tr>\n",
       "      <th>col_3</th>\n",
       "      <td>8.006473</td>\n",
       "      <td>-1.991529</td>\n",
       "      <td>-5.779689</td>\n",
       "      <td>836.230366</td>\n",
       "      <td>-1.174508</td>\n",
       "      <td>-4.259046</td>\n",
       "      <td>4.488693</td>\n",
       "      <td>-1.133241</td>\n",
       "      <td>4.502229</td>\n",
       "      <td>-0.827306</td>\n",
       "      <td>5.196258</td>\n",
       "      <td>3.731033</td>\n",
       "      <td>-0.117715</td>\n",
       "      <td>4.618731</td>\n",
       "      <td>-3.299195</td>\n",
       "      <td>4.648533</td>\n",
       "    </tr>\n",
       "    <tr>\n",
       "      <th>col_4</th>\n",
       "      <td>3.134061</td>\n",
       "      <td>2.250838</td>\n",
       "      <td>4.582706</td>\n",
       "      <td>-1.174508</td>\n",
       "      <td>838.977389</td>\n",
       "      <td>3.415512</td>\n",
       "      <td>-6.104585</td>\n",
       "      <td>0.768510</td>\n",
       "      <td>-1.915474</td>\n",
       "      <td>3.626733</td>\n",
       "      <td>-3.178418</td>\n",
       "      <td>3.807477</td>\n",
       "      <td>2.452864</td>\n",
       "      <td>-2.718751</td>\n",
       "      <td>3.946541</td>\n",
       "      <td>0.711834</td>\n",
       "    </tr>\n",
       "  </tbody>\n",
       "</table>\n",
       "</div>"
      ],
      "text/plain": [
       "            col_0       col_1       col_2       col_3       col_4     col_5  \\\n",
       "col_0  831.706909    1.222180    5.278370    8.006473    3.134061 -3.397139   \n",
       "col_1    1.222180  830.094230   -1.444885   -1.991529    2.250838 -1.946475   \n",
       "col_2    5.278370   -1.444885  835.962652   -5.779689    4.582706  2.638338   \n",
       "col_3    8.006473   -1.991529   -5.779689  836.230366   -1.174508 -4.259046   \n",
       "col_4    3.134061    2.250838    4.582706   -1.174508  838.977389  3.415512   \n",
       "\n",
       "          col_6     col_7     col_8     col_9    col_10    col_11    col_12  \\\n",
       "col_0 -2.293764  0.659789 -3.398005  0.004688  4.408962  1.620187  4.296154   \n",
       "col_1  2.780284  3.171092  2.968332 -0.836585  0.524496  4.900240  2.757136   \n",
       "col_2 -0.810444 -1.991004 -3.114369 -1.170409  6.523343 -3.767481  3.899383   \n",
       "col_3  4.488693 -1.133241  4.502229 -0.827306  5.196258  3.731033 -0.117715   \n",
       "col_4 -6.104585  0.768510 -1.915474  3.626733 -3.178418  3.807477  2.452864   \n",
       "\n",
       "         col_13    col_14    col_15  \n",
       "col_0  4.771234 -2.450248  5.105487  \n",
       "col_1 -3.748321 -4.062521  0.605903  \n",
       "col_2  1.691931  2.586309  2.192620  \n",
       "col_3  4.618731 -3.299195  4.648533  \n",
       "col_4 -2.718751  3.946541  0.711834  "
      ]
     },
     "execution_count": 12,
     "metadata": {},
     "output_type": "execute_result"
    }
   ],
   "source": [
    "# Print the first 5 lines of the result. NOTE: This is a Modin DataFrame\n",
    "cov_df.head()"
   ]
  },
  {
   "cell_type": "markdown",
   "metadata": {
    "slideshow": {
     "slide_type": "slide"
    }
   },
   "source": [
    "<center><h1>Defaulting to pandas in Modin</h1></center>\n",
    "\n",
    "<br><br>"
   ]
  },
  {
   "cell_type": "markdown",
   "metadata": {},
   "source": [
    "![](convert_to_pandas.png)"
   ]
  },
  {
   "cell_type": "markdown",
   "metadata": {
    "slideshow": {
     "slide_type": "slide"
    }
   },
   "source": [
    "<center><h1>Now you can do almost anything in Modin you normally could do in pandas!</h1></center>\n",
    "\n",
    "<br><br>\n",
    "\n"
   ]
  },
  {
   "cell_type": "markdown",
   "metadata": {
    "slideshow": {
     "slide_type": "slide"
    }
   },
   "source": [
    "# Modin: Behind the Scenes"
   ]
  },
  {
   "cell_type": "markdown",
   "metadata": {},
   "source": [
    "![](allNoBox.png)"
   ]
  },
  {
   "cell_type": "markdown",
   "metadata": {
    "slideshow": {
     "slide_type": "slide"
    }
   },
   "source": [
    "# Modin: Behind the Scenes"
   ]
  },
  {
   "cell_type": "markdown",
   "metadata": {},
   "source": [
    "![](pandasAPI.png)"
   ]
  },
  {
   "cell_type": "markdown",
   "metadata": {
    "slideshow": {
     "slide_type": "slide"
    }
   },
   "source": [
    "# Modin: Behind the Scenes"
   ]
  },
  {
   "cell_type": "markdown",
   "metadata": {},
   "source": [
    "![](queryCompiler.png)"
   ]
  },
  {
   "cell_type": "markdown",
   "metadata": {
    "slideshow": {
     "slide_type": "slide"
    }
   },
   "source": [
    "# Modin: Behind the Scenes"
   ]
  },
  {
   "cell_type": "markdown",
   "metadata": {},
   "source": [
    "![](partitionManager.png)"
   ]
  },
  {
   "cell_type": "markdown",
   "metadata": {
    "slideshow": {
     "slide_type": "slide"
    }
   },
   "source": [
    "# Modin: Behind the Scenes"
   ]
  },
  {
   "cell_type": "markdown",
   "metadata": {},
   "source": [
    "![](partitions.png)"
   ]
  },
  {
   "cell_type": "markdown",
   "metadata": {
    "slideshow": {
     "slide_type": "slide"
    }
   },
   "source": [
    "# Modin: Behind the Scenes"
   ]
  },
  {
   "cell_type": "markdown",
   "metadata": {},
   "source": [
    "![](all.png)"
   ]
  },
  {
   "cell_type": "markdown",
   "metadata": {
    "slideshow": {
     "slide_type": "slide"
    }
   },
   "source": [
    "# What is Ray?"
   ]
  },
  {
   "cell_type": "markdown",
   "metadata": {
    "slideshow": {
     "slide_type": "slide"
    }
   },
   "source": [
    "# Ray: A task parallel, low latency execution framework\n",
    "\n",
    "<br><br><br><br>\n",
    "\n",
    "![](ray_architecture_diagram.jpg)"
   ]
  },
  {
   "cell_type": "markdown",
   "metadata": {
    "slideshow": {
     "slide_type": "slide"
    }
   },
   "source": [
    "# Ray: A system for parallel and distributed Python that unifies the ML ecosystem.\n",
    "\n",
    "<br><br><br>\n",
    "\n",
    "![](ray_overview.jpg)"
   ]
  },
  {
   "cell_type": "markdown",
   "metadata": {
    "slideshow": {
     "slide_type": "slide"
    }
   },
   "source": [
    "# Ray\n",
    "\n",
    "- Ray is open source at https://github.com/ray-project/ray\n",
    "- Visit Ray's documentation for more: http://ray.readthedocs.io/en/latest/index.html"
   ]
  },
  {
   "cell_type": "markdown",
   "metadata": {
    "slideshow": {
     "slide_type": "slide"
    }
   },
   "source": [
    "<center><h1>Demo!</h1></center>"
   ]
  },
  {
   "cell_type": "markdown",
   "metadata": {
    "slideshow": {
     "slide_type": "slide"
    }
   },
   "source": [
    "# Conclusion\n",
    "\n",
    "### Modin: Accelerate your pandas by changing one line of code\n",
    "\n",
    "<br><br>\n",
    "\n",
    "- API is identical to pandas\n",
    "- No distributed computing knowledge required!\n",
    "- Brief architecture overview\n",
    "- Introduction to Ray"
   ]
  },
  {
   "cell_type": "markdown",
   "metadata": {
    "slideshow": {
     "slide_type": "slide"
    }
   },
   "source": [
    "# Modin moving forward\n",
    "\n",
    "- Memory management\n",
    "    - Out of core, or DataFrames exceeding memory\n",
    "- Query planning (exciting research to be done here!)\n",
    "- Better partitioning planning\n",
    "- More API coverage\n",
    "- Distributed `pd.Series`\n",
    "- Currently support most recent stable release of pandas API (0.23.4)\n",
    "    - Continue supporting pandas API changes in the future\n",
    "- Modin is only 8 months old!\n",
    "\n",
    "<br><br>\n",
    "\n",
    "# Interested in contributing? We'd love to have you!\n",
    "\n",
    "- Email the mailing list (found in the documentation)\n",
    "- Pick an issue!\n",
    "- Come find me @ PyData!"
   ]
  },
  {
   "cell_type": "markdown",
   "metadata": {
    "slideshow": {
     "slide_type": "slide"
    }
   },
   "source": [
    "# Modin (모든)\n",
    "\n",
    "### Accelerate your pandas workflows by changing one line of code\n",
    "<br>\n",
    "```python\n",
    "# import pandas as pd\n",
    "import modin.pandas as pd\n",
    "```\n",
    "\n",
    "### Modin is open source at https://github.com/modin-project/modin\n",
    "### Install with `pip install modin`\n",
    "### Documentation: https://modin.readthedocs.io/en/latest/\n",
    "\n",
    "<br>\n",
    "##### Devin Petersohn: devin@eecs.berkeley.edu\n",
    "<center><h1>Thank you</h1></center>"
   ]
  }
 ],
 "metadata": {
  "celltoolbar": "Slideshow",
  "kernelspec": {
   "display_name": "Python 3",
   "language": "python",
   "name": "python3"
  },
  "language_info": {
   "codemirror_mode": {
    "name": "ipython",
    "version": 3
   },
   "file_extension": ".py",
   "mimetype": "text/x-python",
   "name": "python",
   "nbconvert_exporter": "python",
   "pygments_lexer": "ipython3",
   "version": "3.6.4"
  }
 },
 "nbformat": 4,
 "nbformat_minor": 2
}
